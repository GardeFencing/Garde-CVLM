{
 "cells": [
  {
   "cell_type": "code",
   "execution_count": null,
   "metadata": {},
   "outputs": [],
   "source": [
    "import pandas as pd\n",
    "import matplotlib.pyplot as plt\n",
    "import seaborn as sns\n",
    "from eyeInfo import EyeInfo\n",
    "\n",
    "calib_points = [\n",
    "    { \"x\": 200, \"y\": 200 },\n",
    "    { \"x\": 1672, \"y\": 200 },\n",
    "    { \"x\": 936, \"y\": 472 },\n",
    "    { \"x\": 200, \"y\": 744 },\n",
    "    { \"x\": 1672, \"y\": 744 }\n",
    "]\n",
    "\n",
    "eye = EyeInfo(calib_points=calib_points)\n",
    "eye.init_eye()\n",
    "\n",
    "\n",
    "right = './csv/output/outright.csv'\n",
    "left = './csv/output/outleft.csv'\n",
    "\n",
    "calib_df = eye.calib_df\n",
    "\n",
    "# right_x = (right_df['screen_x']).tolist()\n",
    "# right_y = (right_df['screen_y']).tolist()\n",
    "# left_x = (left_df['screen_x']).tolist()\n",
    "# left_y = (left_df['screen_y']).tolist()\n",
    "# mean_x = ((right_df['screen_x'] + left_df['screen_x']) / 2).tolist()\n",
    "# mean_y = ((right_df['screen_y'] + left_df['screen_y']) / 2).tolist()\n"
   ]
  },
  {
   "cell_type": "code",
   "execution_count": null,
   "metadata": {},
   "outputs": [],
   "source": [
    "right_df = pd.read_csv(right)\n",
    "left_df = pd.read_csv(left)\n",
    "mean_df = pd.DataFrame()\n",
    "mean_df['screen_x'] = (right_df['screen_x'] + left_df['screen_x']) / 2\n",
    "mean_df['screen_y'] = (right_df['screen_y'] + left_df['screen_y']) / 2\n",
    "\n",
    "\n",
    "# control = 5\n",
    "subset_size = 20\n",
    "subset_mean_df1 = mean_df.iloc[0:subset_size]\n",
    "print(subset_mean_df1.shape)\n",
    "subset_mean_df2 = mean_df.iloc[subset_size:subset_size*2]\n",
    "print(subset_mean_df2.shape)\n",
    "subset_mean_df3 = mean_df.iloc[subset_size*2:subset_size*3]\n",
    "print(subset_mean_df3.shape)\n",
    "subset_mean_df4 = mean_df.iloc[subset_size*3:subset_size*4]\n",
    "print(subset_mean_df4.shape)\n",
    "subset_mean_df5 = mean_df.iloc[subset_size*4:subset_size*5]\n",
    "print(subset_mean_df5.shape)"
   ]
  },
  {
   "cell_type": "code",
   "execution_count": null,
   "metadata": {},
   "outputs": [],
   "source": [
    "low_lim = 0\n",
    "upper_lim_x = eye.k_screen_width    \n",
    "upper_lim_y = eye.k_screen_height\n",
    "\n",
    "palette = {\n",
    "    'calib_df': 'black',\n",
    "    'first': 'blue',\n",
    "    'second': 'red',\n",
    "    'third': 'green',\n",
    "    'fourth': 'yellow',\n",
    "    'fifth':'lightgreen'\n",
    "}\n",
    "\n",
    "sns.set(style=\"whitegrid\")\n",
    "sns.scatterplot(data=calib_df, x='screen_x', y='screen_y', color=palette['calib_df'])\n",
    "sns.scatterplot(data=subset_mean_df1, x='screen_x', y='screen_y', color=palette['first'])\n",
    "sns.scatterplot(data=subset_mean_df2, x='screen_x', y='screen_y', color=palette['second'])\n",
    "sns.scatterplot(data=subset_mean_df3, x='screen_x', y='screen_y', color=palette['third'])\n",
    "sns.scatterplot(data=subset_mean_df4, x='screen_x', y='screen_y', color=palette['fourth'])\n",
    "sns.scatterplot(data=subset_mean_df5, x='screen_x', y='screen_y', color=palette['fifth'])\n",
    "# plt.xlim(low_lim, upper_lim_x)\n",
    "# plt.ylim(low_lim, upper_lim_y)\n",
    "\n",
    "plt.show()"
   ]
  }
 ],
 "metadata": {
  "kernelspec": {
   "display_name": "eye_test",
   "language": "python",
   "name": "python3"
  },
  "language_info": {
   "codemirror_mode": {
    "name": "ipython",
    "version": 3
   },
   "file_extension": ".py",
   "mimetype": "text/x-python",
   "name": "python",
   "nbconvert_exporter": "python",
   "pygments_lexer": "ipython3",
   "version": "3.10.11"
  }
 },
 "nbformat": 4,
 "nbformat_minor": 2
}
