{
 "cells": [
  {
   "cell_type": "markdown",
   "metadata": {},
   "source": [
    "## Variable Initialization and Imports"
   ]
  },
  {
   "cell_type": "code",
   "execution_count": 1,
   "metadata": {},
   "outputs": [],
   "source": [
    "import pandas as pd\n",
    "from sklearn import linear_model\n",
    "import csv\n",
    "import matplotlib.pyplot as plt\n",
    "from eyeInfo import EyeInfo\n",
    "import numpy as np\n",
    "\n",
    "output = './csv/output/outleft.csv'\n",
    "train_imput = './csv/center_20_fixed_train_data.csv'\n",
    "predict_input = './csv/center_20_predict_train_data.csv'\n",
    "\n",
    "fieldnames = ['screen_x', 'screen_y','left_iris_x','left_iris_y']\n",
    "\n",
    "calib_points = [\n",
    "    { \"x\": 200, \"y\": 200 },\n",
    "    { \"x\": 1672, \"y\": 200 },\n",
    "    { \"x\": 936, \"y\": 472 },\n",
    "    { \"x\": 200, \"y\": 744 },\n",
    "    { \"x\": 1672, \"y\": 744 }\n",
    "]\n",
    "\n",
    "def train_to_validate_calib():\n",
    "    dataset_train_path = train_imput\n",
    "    dataset_predict_path = predict_input\n",
    "\n",
    "    data = pd.read_csv(dataset_train_path)\n",
    "\n",
    "    X = data[['left_iris_x', 'left_iris_y']]\n",
    "    y = data[['point_x', 'point_y']]\n",
    "\n",
    "    model = linear_model.LinearRegression()\n",
    "    model.fit(X, y)\n",
    "\n",
    "    dados_teste = pd.read_csv(dataset_predict_path)\n",
    "    dados_teste.drop(['right_iris_x', 'right_iris_y'], axis=1, inplace=True)\n",
    "    eye_positions = dados_teste[['left_iris_x', 'left_iris_y']].values\n",
    "    print(dados_teste)\n",
    "    previsoes = model.predict(dados_teste)\n",
    "\n",
    "    combined_predictions = np.concatenate((previsoes, eye_positions), axis=1)\n",
    "    return combined_predictions.tolist()"
   ]
  },
  {
   "cell_type": "markdown",
   "metadata": {},
   "source": [
    "## Reading CSVs"
   ]
  },
  {
   "cell_type": "code",
   "execution_count": 2,
   "metadata": {},
   "outputs": [
    {
     "name": "stdout",
     "output_type": "stream",
     "text": [
      "    left_iris_x  left_iris_y\n",
      "0    378.270172   224.255188\n",
      "1    378.270172   224.255188\n",
      "2    378.270172   224.255188\n",
      "3    378.270172   224.255188\n",
      "4    378.270172   224.255188\n",
      "..          ...          ...\n",
      "95   379.643402   225.207489\n",
      "96   379.350372   225.240295\n",
      "97   378.826324   225.043289\n",
      "98   379.056366   225.052475\n",
      "99   379.085876   224.503250\n",
      "\n",
      "[100 rows x 2 columns]\n"
     ]
    }
   ],
   "source": [
    "teste = train_to_validate_calib()\n",
    "\n",
    "with open(output, mode='w', newline='') as file:\n",
    "    writer = csv.DictWriter(file, fieldnames=fieldnames)\n",
    "\n",
    "    writer.writeheader()\n",
    "\n",
    "    for row in teste:\n",
    "        writer.writerow({'screen_x': row[0], 'screen_y': row[1], 'left_iris_x': row[2],'left_iris_y': row[3],})"
   ]
  },
  {
   "cell_type": "markdown",
   "metadata": {},
   "source": [
    "## Instancing class and initializing points "
   ]
  },
  {
   "cell_type": "code",
   "execution_count": 3,
   "metadata": {},
   "outputs": [],
   "source": [
    "eye = EyeInfo(calib_points=calib_points, dataset=output, right=False)\n",
    "eye.init_screen_resolution()\n",
    "eye.init_calib_points()\n",
    "eye.init_points()"
   ]
  },
  {
   "cell_type": "markdown",
   "metadata": {},
   "source": [
    "## Initializing left eye, right eye and prediction arrays to plot"
   ]
  },
  {
   "cell_type": "code",
   "execution_count": 4,
   "metadata": {},
   "outputs": [
    {
     "name": "stdout",
     "output_type": "stream",
     "text": [
      "{'x': 1063.0612907196119, 'y': 292.7918454247301}\n"
     ]
    }
   ],
   "source": [
    "calib_points_x , calib_points_y = eye.get_points(eye.calib_points)\n",
    "# right_eye_x, right_eye_y = eye.get_points(eye.right_eye)\n",
    "left_eye_x, left_eye_y = eye.get_points(eye.left_eye)\n",
    "prediction_x, prediction_y = eye.get_points(eye.prediction)\n",
    "\n",
    "max_x = eye.get_max_object('x')\n",
    "max_y = eye.get_max_object('y')\n",
    "min_x = eye.get_min_object('x')\n",
    "min_y = eye.get_min_object('y')\n",
    "print(min_y)"
   ]
  },
  {
   "cell_type": "markdown",
   "metadata": {},
   "source": [
    "## Plotting data"
   ]
  },
  {
   "cell_type": "code",
   "execution_count": 5,
   "metadata": {},
   "outputs": [
    {
     "name": "stdout",
     "output_type": "stream",
     "text": [
      "same max: {'x': 1618.3741030078381, 'y': 997.7360187774902}\n"
     ]
    },
    {
     "data": {
      "image/png": "[encoded data removed]",
      "text/plain": [
       "<Figure size 1872x944 with 1 Axes>"
      ]
     },
     "metadata": {},
     "output_type": "display_data"
    }
   ],
   "source": [
    "right_color = 'blue'\n",
    "left_color= 'red'\n",
    "calib_colors= 'black'\n",
    "prediction_color = 'blue'\n",
    "highlight_max_color = 'green'\n",
    "highlight_min_color = 'pink'\n",
    "marker_size = 30\n",
    "\n",
    "# plt.scatter(right_eye_x, right_eye_y, marker='o', color='blue', label='right eye')\n",
    "# plt.scatter(left_eye_x, left_eye_y, marker='o', color='red', label='left eye')\n",
    "plt.scatter(calib_points_x, calib_points_y, marker=\"*\", color=calib_colors, label='calib points')\n",
    "plt.scatter(prediction_x, prediction_y, marker='o', color=prediction_color, label='predicted value')\n",
    "if(max_x != max_y):\n",
    "    plt.scatter(max_x['x'], max_x['y'], marker='o', color=highlight_max_color, label='predict max x point')\n",
    "    plt.scatter(max_y['x'], max_y['y'], marker='o', color=highlight_max_color, label='predict max y point')\n",
    "else:\n",
    "    plt.scatter(max_x['x'], max_x['y'], marker='o', color=highlight_max_color, label='max general point')\n",
    "    print(f'same max: {max_x}')\n",
    "\n",
    "if(min_x != min_y):\n",
    "    plt.scatter(min_x['x'], min_x['y'], marker='o', color=highlight_min_color, label='predict min x point')\n",
    "    plt.scatter(min_y['x'], min_y['y'], marker='o', color=highlight_min_color, label='predict min y point')\n",
    "else:\n",
    "    plt.scatter(min_x['x'], min_x['y'], marker='o', color=highlight_min_color, label='min general point')\n",
    "    print(f'same min: {min_x}')\n",
    "fig = plt.gcf()\n",
    "fig.set_size_inches(eye.k_screen_width / 100, eye.k_screen_height / 100)\n",
    "\n",
    "ax = plt.gca()\n",
    "ax.set_xlim(0, eye.k_screen_width)\n",
    "ax.set_ylim(0, eye.k_screen_height)\n",
    "\n",
    "plt.grid(True)\n",
    "\n",
    "plt.show()"
   ]
  }
 ],
 "metadata": {
  "kernelspec": {
   "display_name": "eye_test",
   "language": "python",
   "name": "python3"
  },
  "language_info": {
   "codemirror_mode": {
    "name": "ipython",
    "version": 3
   },
   "file_extension": ".py",
   "mimetype": "text/x-python",
   "name": "python",
   "nbconvert_exporter": "python",
   "pygments_lexer": "ipython3",
   "version": "3.10.11"
  }
 },
 "nbformat": 4,
 "nbformat_minor": 2
}
