{
 "cells": [
  {
   "cell_type": "code",
   "execution_count": null,
   "metadata": {},
   "outputs": [],
   "source": [
    "import pandas as pd\n",
    "from sklearn import linear_model\n",
    "import csv\n",
    "import matplotlib.pyplot as plt\n",
    "import seaborn as sns\n",
    "from eyeInfo import EyeInfo\n",
    "import numpy as np"
   ]
  },
  {
   "cell_type": "code",
   "execution_count": null,
   "metadata": {},
   "outputs": [],
   "source": [
    "prefix = 'center_20'\n",
    "output = './csv/output/outright.csv'\n",
    "train_imput = f'./csv/{prefix}_fixed_train_data.csv'\n",
    "predict_input = f'./csv/{prefix}_predict_train_data.csv'\n",
    "\n",
    "fieldnames = ['screen_x', 'screen_y', 'left_iris_x','left_iris_y']\n",
    "\n",
    "calib_points = [\n",
    "    { \"x\": 200, \"y\": 200 },\n",
    "    { \"x\": 1672, \"y\": 200 },\n",
    "    { \"x\": 936, \"y\": 472 },\n",
    "    { \"x\": 200, \"y\": 744 },\n",
    "    { \"x\": 1672, \"y\": 744 }\n",
    "]\n"
   ]
  },
  {
   "cell_type": "code",
   "execution_count": null,
   "metadata": {},
   "outputs": [],
   "source": [
    "def train_to_validate_calib():\n",
    "    dataset_train_path = train_imput\n",
    "    dataset_predict_path = predict_input\n",
    "\n",
    "    data = pd.read_csv(dataset_train_path)\n",
    "\n",
    "    X = data[[ 'left_iris_x', 'left_iris_y']]\n",
    "    y = data[['point_x', 'point_y']]\n",
    "\n",
    "    model = linear_model.LinearRegression()\n",
    "    model.fit(X, y)\n",
    "\n",
    "    dados_teste = pd.read_csv(dataset_predict_path)\n",
    "    dados_teste.drop(['right_iris_x', 'right_iris_y'], axis=1, inplace=True)\n",
    "    eye_positions = dados_teste[['left_iris_x', 'left_iris_y']].values\n",
    "    previsoes = model.predict(dados_teste)\n",
    "\n",
    "    combined_predictions = np.concatenate((previsoes, eye_positions), axis=1)\n",
    "    return combined_predictions.tolist()"
   ]
  },
  {
   "cell_type": "code",
   "execution_count": null,
   "metadata": {},
   "outputs": [],
   "source": [
    "teste = train_to_validate_calib()\n",
    "print(teste)\n",
    "\n",
    "with open(output, mode='w', newline='') as file:\n",
    "    writer = csv.DictWriter(file, fieldnames=fieldnames)\n",
    "\n",
    "    writer.writeheader()\n",
    "\n",
    "    for row in teste:\n",
    "        writer.writerow({'screen_x': row[0], 'screen_y': row[1],'left_iris_x': row[2],'left_iris_y': row[3]})"
   ]
  },
  {
   "cell_type": "code",
   "execution_count": null,
   "metadata": {},
   "outputs": [],
   "source": [
    "eye = EyeInfo(calib_points=calib_points, dataset=output, is_left=True)\n",
    "eye.init_eye()\n",
    "prediction_df = eye.prediction_df\n",
    "calib_df = eye.calib_df"
   ]
  },
  {
   "cell_type": "code",
   "execution_count": null,
   "metadata": {},
   "outputs": [],
   "source": [
    "low_lim = 0\n",
    "upper_lim_x = eye.k_screen_width    \n",
    "upper_lim_y = eye.k_screen_height\n",
    "\n",
    "sns.set(style=\"whitegrid\")\n",
    "sns.scatterplot(data=calib_df, x='screen_x', y='screen_y')\n",
    "sns.scatterplot(data=prediction_df, x='screen_x', y='screen_y')\n",
    "\n",
    "plt.xlim(low_lim, upper_lim_x)\n",
    "plt.ylim(low_lim, upper_lim_y)\n",
    "\n",
    "plt.show()"
   ]
  }
 ],
 "metadata": {
  "kernelspec": {
   "display_name": "eye_test",
   "language": "python",
   "name": "python3"
  },
  "language_info": {
   "codemirror_mode": {
    "name": "ipython",
    "version": 3
   },
   "file_extension": ".py",
   "mimetype": "text/x-python",
   "name": "python",
   "nbconvert_exporter": "python",
   "pygments_lexer": "ipython3",
   "version": "3.10.11"
  }
 },
 "nbformat": 4,
 "nbformat_minor": 2
}
