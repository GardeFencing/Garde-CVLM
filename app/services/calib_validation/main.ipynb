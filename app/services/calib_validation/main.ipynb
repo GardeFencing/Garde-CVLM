{
 "cells": [
  {
   "cell_type": "code",
   "execution_count": 1,
   "metadata": {},
   "outputs": [],
   "source": [
    "import pandas as pd\n",
    "from sklearn import linear_model\n",
    "import csv\n",
    "import matplotlib.pyplot as plt\n",
    "import seaborn as sns\n",
    "from eyeInfo import EyeInfo\n",
    "import numpy as np"
   ]
  },
  {
   "cell_type": "code",
   "execution_count": 2,
   "metadata": {},
   "outputs": [],
   "source": [
    "output = './csv/output/center_20.csv'\n",
    "train_imput = './csv/center_20_fixed_train_data.csv'\n",
    "predict_input = './csv/center_20_predict_train_data.csv'\n",
    "\n",
    "fieldnames = ['screen_x', 'screen_y','left_iris_x','left_iris_y','right_iris_x','right_iris_y']\n",
    "\n",
    "calib_points = [\n",
    "    { \"x\": 200, \"y\": 200 },\n",
    "    { \"x\": 1672, \"y\": 200 },\n",
    "    { \"x\": 936, \"y\": 472 },\n",
    "    { \"x\": 200, \"y\": 744 },\n",
    "    { \"x\": 1672, \"y\": 744 }\n",
    "]"
   ]
  },
  {
   "cell_type": "code",
   "execution_count": 3,
   "metadata": {},
   "outputs": [],
   "source": [
    "def train_to_validate_calib():\n",
    "    dataset_train_path = train_imput\n",
    "    dataset_predict_path = predict_input\n",
    "\n",
    "    data = pd.read_csv(dataset_train_path)\n",
    "\n",
    "    X = data[['left_iris_x', 'left_iris_y', 'right_iris_x', 'right_iris_y']]\n",
    "    y = data[['point_x', 'point_y']]\n",
    "\n",
    "    model = linear_model.LinearRegression()\n",
    "    model.fit(X, y)\n",
    "\n",
    "    dados_teste = pd.read_csv(dataset_predict_path)\n",
    "    eye_positions = dados_teste[['left_iris_x', 'left_iris_y', 'right_iris_x', 'right_iris_y']].values\n",
    "    previsoes = model.predict(dados_teste)\n",
    "\n",
    "    combined_predictions = np.concatenate((previsoes, eye_positions), axis=1)\n",
    "    return combined_predictions.tolist()\n",
    "\n",
    "def return_scalar(number):\n",
    "    scalar = []\n",
    "    scalar.append(number)\n",
    "    return scalar"
   ]
  },
  {
   "cell_type": "code",
   "execution_count": 4,
   "metadata": {},
   "outputs": [],
   "source": [
    "teste = train_to_validate_calib()\n",
    "\n",
    "with open(output, mode='w', newline='') as file:\n",
    "    writer = csv.DictWriter(file, fieldnames=fieldnames)\n",
    "\n",
    "    writer.writeheader()\n",
    "\n",
    "    for row in teste:\n",
    "        writer.writerow({'screen_x': row[0], 'screen_y': row[1], 'left_iris_x': row[2],'left_iris_y': row[3],'right_iris_x': row[4],'right_iris_y': row[5]})"
   ]
  },
  {
   "cell_type": "code",
   "execution_count": 5,
   "metadata": {},
   "outputs": [],
   "source": [
    "eye = EyeInfo(calib_points=calib_points, dataset=output)\n",
    "eye.init_eye()"
   ]
  },
  {
   "cell_type": "code",
   "execution_count": 6,
   "metadata": {},
   "outputs": [
    {
     "name": "stdout",
     "output_type": "stream",
     "text": [
      "       screen_x    screen_y\n",
      "0   1534.204231  714.228420\n",
      "1   1534.204231  714.228420\n",
      "2   1534.204231  714.228420\n",
      "3   1534.204231  714.228420\n",
      "4   1534.204231  714.228420\n",
      "..          ...         ...\n",
      "95  1521.746197  868.504165\n",
      "96  1449.399606  883.814717\n",
      "97  1427.233968  827.211050\n",
      "98  1400.253558  845.088595\n",
      "99  1304.492112  848.101964\n",
      "\n",
      "[100 rows x 2 columns]\n",
      "   screen_x  screen_y\n",
      "0       200       200\n",
      "1      1672       200\n",
      "2       936       472\n",
      "3       200       744\n",
      "4      1672       744\n"
     ]
    }
   ],
   "source": [
    "prediction_df = eye.prediction_df\n",
    "calib_df = eye.calib_df"
   ]
  },
  {
   "cell_type": "code",
   "execution_count": 7,
   "metadata": {},
   "outputs": [
    {
     "data": {
      "image/png": "[encoded data removed]",
      "text/plain": [
       "<Figure size 640x480 with 1 Axes>"
      ]
     },
     "metadata": {},
     "output_type": "display_data"
    }
   ],
   "source": [
    "low_lim = 0\n",
    "sns.set(style=\"whitegrid\")\n",
    "sns.scatterplot(data=calib_df, x='screen_x', y='screen_y')\n",
    "sns.scatterplot(data=prediction_df, x='screen_x', y='screen_y')\n",
    "\n",
    "plt.xlim(low_lim, eye.k_screen_width)\n",
    "plt.ylim(low_lim, eye.k_screen_height)\n",
    "\n",
    "plt.show()"
   ]
  }
 ],
 "metadata": {
  "kernelspec": {
   "display_name": "eye_test",
   "language": "python",
   "name": "python3"
  },
  "language_info": {
   "codemirror_mode": {
    "name": "ipython",
    "version": 3
   },
   "file_extension": ".py",
   "mimetype": "text/x-python",
   "name": "python",
   "nbconvert_exporter": "python",
   "pygments_lexer": "ipython3",
   "version": "3.10.11"
  }
 },
 "nbformat": 4,
 "nbformat_minor": 2
}
