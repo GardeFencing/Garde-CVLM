{
 "cells": [
  {
   "cell_type": "markdown",
   "metadata": {},
   "source": [
    "## Variable Initialization and Imports"
   ]
  },
  {
   "cell_type": "code",
   "execution_count": null,
   "metadata": {},
   "outputs": [],
   "source": [
    "import pandas as pd\n",
    "from sklearn import linear_model\n",
    "import csv\n",
    "import matplotlib.pyplot as plt\n",
    "from eyeInfo import EyeInfo\n",
    "\n",
    "output = './csv/output/cinco.csv'\n",
    "train_imput = './csv/cinco_fixed_train_data.csv'\n",
    "predict_input = './csv/cinco_predict_train_data.csv'\n",
    "\n",
    "fieldnames = ['screen_x', 'screen_y']\n",
    "csv_file = output\n",
    "\n",
    "calib_points = [\n",
    "    { \"x\": 200, \"y\": 200 },\n",
    "    { \"x\": 1672, \"y\": 200 },\n",
    "    { \"x\": 936, \"y\": 472 },\n",
    "    { \"x\": 200, \"y\": 744 },\n",
    "    { \"x\": 1672, \"y\": 744 }\n",
    "]\n",
    "\n",
    "def train_to_validate_calib():\n",
    "    dataset_train_path = train_imput\n",
    "    dataset_predict_path = predict_input\n",
    "\n",
    "    data = pd.read_csv(dataset_train_path)\n",
    "\n",
    "    X = data[['left_iris_x', 'left_iris_y', 'right_iris_x', 'right_iris_y']]\n",
    "    y = data[['point_x', 'point_y']]\n",
    "\n",
    "    model = linear_model.LinearRegression()\n",
    "    model.fit(X, y)\n",
    "\n",
    "    dados_teste = pd.read_csv(dataset_predict_path)\n",
    "\n",
    "    previsoes = model.predict(dados_teste)\n",
    "\n",
    "    print(\"Previsões de point_x e point_y:\")\n",
    "    print(previsoes)\n",
    "    return previsoes.tolist()"
   ]
  },
  {
   "cell_type": "markdown",
   "metadata": {},
   "source": [
    "## Reading CSVs"
   ]
  },
  {
   "cell_type": "code",
   "execution_count": null,
   "metadata": {},
   "outputs": [],
   "source": [
    "teste = train_to_validate_calib()\n",
    "\n",
    "with open(csv_file, mode='w', newline='') as file:\n",
    "    writer = csv.DictWriter(file, fieldnames=fieldnames)\n",
    "\n",
    "    writer.writeheader()\n",
    "\n",
    "    for row in teste:\n",
    "        writer.writerow({'screen_x': row[0], 'screen_y': row[1]})"
   ]
  },
  {
   "cell_type": "markdown",
   "metadata": {},
   "source": [
    "## Instancing class and initializing calib points "
   ]
  },
  {
   "cell_type": "code",
   "execution_count": null,
   "metadata": {},
   "outputs": [],
   "source": [
    "eye = EyeInfo(calib_points=calib_points, dataset=output)\n",
    "eye.get_screen_resolution()\n",
    "eye.get_calib_points()\n",
    "eye.get_points()\n",
    "\n",
    "calib_points_x = []\n",
    "calib_points_y = []\n",
    "for obj in eye.calib_points:\n",
    "    calib_points_x.append(obj['x'])\n",
    "    calib_points_y.append(obj['y'])"
   ]
  },
  {
   "cell_type": "markdown",
   "metadata": {},
   "source": [
    "## Initializing left eye, right eye and prediction arrays to plot"
   ]
  },
  {
   "cell_type": "code",
   "execution_count": null,
   "metadata": {},
   "outputs": [],
   "source": [
    "right = eye.right_eye\n",
    "# print(f'right: {right}')\n",
    "\n",
    "right_eye_x = []\n",
    "right_eye_y = []\n",
    "\n",
    "\n",
    "for obj in right:\n",
    "    right_eye_x.append(obj['x'])\n",
    "    right_eye_y.append(obj['y'])\n",
    "\n",
    "left = eye.left_eye\n",
    "# print(f'left: {left}')\n",
    "left_eye_x = []\n",
    "left_eye_y = []\n",
    "\n",
    "\n",
    "for obj in left:\n",
    "    left_eye_x.append(obj['x'])\n",
    "    left_eye_y.append(obj['y'])\n",
    "\n",
    "prediction = eye.prediction\n",
    "# print(f'prediction: {prediction}')\n",
    "prediction_x = []\n",
    "prediction_y = []\n",
    "\n",
    "for obj in prediction:\n",
    "    prediction_x.append(obj['x'])\n",
    "    prediction_y.append(obj['y'])"
   ]
  },
  {
   "cell_type": "markdown",
   "metadata": {},
   "source": [
    "## Plotting data"
   ]
  },
  {
   "cell_type": "code",
   "execution_count": null,
   "metadata": {},
   "outputs": [],
   "source": [
    "# plt.scatter(right_eye_x, right_eye_y, marker='o', color='blue', label='right eye')\n",
    "# plt.scatter(left_eye_x, left_eye_y, marker='o', color='red', label='left eye')\n",
    "plt.scatter(prediction_x, prediction_y, marker='o', color='green', label='predicted value')\n",
    "plt.scatter(calib_points_x, calib_points_y, marker=\"*\", color='black', label='calib points')\n",
    "\n",
    "fig = plt.gcf()\n",
    "fig.set_size_inches(eye.k_screen_width / 100, eye.k_screen_height / 100)\n",
    "\n",
    "ax = plt.gca()\n",
    "ax.set_xlim(0, eye.k_screen_width)\n",
    "ax.set_ylim(0, eye.k_screen_height)\n",
    "\n",
    "plt.grid(True)\n",
    "\n",
    "plt.show()"
   ]
  }
 ],
 "metadata": {
  "kernelspec": {
   "display_name": "eye_test",
   "language": "python",
   "name": "python3"
  },
  "language_info": {
   "codemirror_mode": {
    "name": "ipython",
    "version": 3
   },
   "file_extension": ".py",
   "mimetype": "text/x-python",
   "name": "python",
   "nbconvert_exporter": "python",
   "pygments_lexer": "ipython3",
   "version": "3.10.11"
  }
 },
 "nbformat": 4,
 "nbformat_minor": 2
}
