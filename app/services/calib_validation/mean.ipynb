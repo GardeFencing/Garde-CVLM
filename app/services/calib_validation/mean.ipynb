{
 "cells": [
  {
   "cell_type": "code",
   "execution_count": null,
   "metadata": {},
   "outputs": [],
   "source": [
    "import pandas as pd\n",
    "import matplotlib.pyplot as plt\n",
    "import seaborn as sns\n",
    "from eyeInfo import EyeInfo\n",
    "\n",
    "calib_points = [\n",
    "    { \"x\": 200, \"y\": 200, 'order':1 },\n",
    "    { \"x\": 1672, \"y\": 200, 'order':2 },\n",
    "    { \"x\": 936, \"y\": 472, 'order':3 },\n",
    "    { \"x\": 200, \"y\": 744, 'order':4 },\n",
    "    { \"x\": 1672, \"y\": 744, 'order':5 }\n",
    "]\n",
    "\n",
    "eye = EyeInfo(calib_points=calib_points)\n",
    "eye.init_eye()\n",
    "\n",
    "\n",
    "right = './csv/output/outright.csv'\n",
    "left = './csv/output/outleft.csv'\n",
    "\n",
    "calib_df = eye.calib_df\n"
   ]
  },
  {
   "cell_type": "code",
   "execution_count": null,
   "metadata": {},
   "outputs": [],
   "source": [
    "right_df = pd.read_csv(right)\n",
    "left_df = pd.read_csv(left)\n",
    "mean_df = pd.DataFrame()\n",
    "mean_df['screen_x'] = (right_df['screen_x'] + left_df['screen_x']) / 2\n",
    "mean_df['screen_y'] = (right_df['screen_y'] + left_df['screen_y']) / 2\n",
    "\n",
    "is_subset = False\n",
    "# quando verdadeiro, escolha qual subset de qual cluster voce deseja plotar com a variavel control\n",
    "if is_subset:\n",
    "    control = 1\n",
    "    subset_size = 20\n",
    "    low = (control - 1) * subset_size\n",
    "    high = control * subset_size\n",
    "    subset_mean_df = mean_df.iloc[low:high]\n",
    "    subset_right_df = right_df.iloc[low:high]\n",
    "    subset_left_df = left_df.iloc[low:high]"
   ]
  },
  {
   "cell_type": "code",
   "execution_count": null,
   "metadata": {},
   "outputs": [],
   "source": [
    "low_lim = 0\n",
    "upper_lim_x = eye.k_screen_width    \n",
    "upper_lim_y = eye.k_screen_height\n",
    "\n",
    "palette = {\n",
    "    'calib_df': 'black',\n",
    "    'right_df': 'blue',\n",
    "    'left_df': 'red',\n",
    "    'mean_df': 'green'\n",
    "}\n",
    "\n",
    "sns.set(style=\"whitegrid\")\n",
    "sns.scatterplot(data=calib_df, x='screen_x', y='screen_y', color=palette['calib_df'])\n",
    "\n",
    "if is_subset:\n",
    "    sns.scatterplot(data=subset_right_df, x='screen_x', y='screen_y', color=palette['right_df'])\n",
    "    sns.scatterplot(data=subset_left_df, x='screen_x', y='screen_y', color=palette['left_df'])\n",
    "    sns.scatterplot(data=subset_mean_df, x='screen_x', y='screen_y', color=palette['mean_df'])\n",
    "else:\n",
    "    sns.scatterplot(data=right_df, x='screen_x', y='screen_y', color=palette['right_df'])\n",
    "    sns.scatterplot(data=left_df, x='screen_x', y='screen_y', color=palette['left_df'])\n",
    "    sns.scatterplot(data=mean_df, x='screen_x', y='screen_y', color=palette['mean_df'])\n",
    "\n",
    "# plt.xlim(low_lim, upper_lim_x)\n",
    "# plt.ylim(low_lim, upper_lim_y)\n",
    "\n",
    "plt.show()"
   ]
  }
 ],
 "metadata": {
  "kernelspec": {
   "display_name": "eye_test",
   "language": "python",
   "name": "python3"
  },
  "language_info": {
   "codemirror_mode": {
    "name": "ipython",
    "version": 3
   },
   "file_extension": ".py",
   "mimetype": "text/x-python",
   "name": "python",
   "nbconvert_exporter": "python",
   "pygments_lexer": "ipython3",
   "version": "3.10.11"
  }
 },
 "nbformat": 4,
 "nbformat_minor": 2
}
