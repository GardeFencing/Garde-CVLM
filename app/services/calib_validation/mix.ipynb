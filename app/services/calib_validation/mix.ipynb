{
 "cells": [
  {
   "cell_type": "code",
   "execution_count": null,
   "metadata": {},
   "outputs": [],
   "source": [
    "import pandas as pd\n",
    "from sklearn import linear_model\n",
    "import csv\n",
    "from eyeInfo import EyeInfo\n",
    "import numpy as np"
   ]
  },
  {
   "cell_type": "code",
   "execution_count": null,
   "metadata": {},
   "outputs": [],
   "source": [
    "# coloque o prefixo do nome na variavel prefix para analisar\n",
    "prefix = 'mask2'\n",
    "# quantidade de dados por ponto de calibração\n",
    "subset_size = 50\n",
    "# divide os clusters em cores\n",
    "is_subset = True\n",
    "# determina se o grafico deve ou nao ficar travado nas dimensoes upper_lim_x e upper_lim_y\n",
    "lock_plot = True\n",
    "# edite os calib points para ficar igual o front \n",
    "calib_points = [\n",
    "    { \"x\": 200, \"y\": 200, 'order':1 },\n",
    "    { \"x\": 1672, \"y\": 200, 'order':2 },\n",
    "    { \"x\": 936, \"y\": 472, 'order':3 },\n",
    "    { \"x\": 200, \"y\": 744, 'order':4 },\n",
    "    { \"x\": 1672, \"y\": 744, 'order':5 }\n",
    "]"
   ]
  },
  {
   "cell_type": "code",
   "execution_count": null,
   "metadata": {},
   "outputs": [],
   "source": [
    "output = './csv/output/output.csv'\n",
    "output_right = './csv/output/outright.csv'\n",
    "output_left = './csv/output/outleft.csv'\n",
    "train_input = f'./csv/data/{prefix}_fixed_train_data.csv'\n",
    "predict_input = f'./csv/data/{prefix}_predict_train_data.csv'\n",
    "\n",
    "fieldnames = ['screen_x', 'screen_y','left_iris_x','left_iris_y','right_iris_x','right_iris_y']\n",
    "fieldnames_left = ['screen_x', 'screen_y', 'left_iris_x','left_iris_y']\n",
    "fieldnames_rigth = ['screen_x', 'screen_y', 'right_iris_x','right_iris_y']\n",
    "\n",
    "palette = {\n",
    "    'calib_df': 'black',\n",
    "    'first': 'blue',\n",
    "    'second': 'red',\n",
    "    'third': 'green',\n",
    "    'fourth': 'yellow',\n",
    "    'fifth':'lightgreen'\n",
    "}\n",
    "\n",
    "legend_dict = {\n",
    "    palette['first']: 'Cluster 1',\n",
    "    palette['second']: 'Cluster 2',\n",
    "    palette['third']: 'Cluster 3',\n",
    "    palette['fourth']: 'Cluster 4',\n",
    "    palette['fifth']: 'Cluster 5',\n",
    "}"
   ]
  },
  {
   "cell_type": "code",
   "execution_count": null,
   "metadata": {},
   "outputs": [],
   "source": [
    "def train_to_validate_calib(output, fieldnames, isLeft, isRight):\n",
    "    dataset_train_path = train_input\n",
    "    dataset_predict_path = predict_input\n",
    "    data = pd.read_csv(dataset_train_path)\n",
    "    if isLeft:\n",
    "        X = data[[ 'left_iris_x', 'left_iris_y']]\n",
    "        y = data[['point_x', 'point_y']]\n",
    "    elif isRight:\n",
    "        X = data[[ 'right_iris_x', 'right_iris_y']]\n",
    "        y = data[['point_x', 'point_y']]\n",
    "    else:   \n",
    "        X = data[['left_iris_x', 'left_iris_y', 'right_iris_x', 'right_iris_y']]\n",
    "        y = data[['point_x', 'point_y']]\n",
    "\n",
    "    model = linear_model.LinearRegression()\n",
    "    model.fit(X, y)\n",
    "    dados_teste = pd.read_csv(dataset_predict_path)\n",
    "    if isLeft:\n",
    "        dados_teste.drop(['right_iris_x', 'right_iris_y'], axis=1, inplace=True)\n",
    "        eye_positions = dados_teste[['left_iris_x', 'left_iris_y']].values\n",
    "    elif isRight:\n",
    "        dados_teste.drop(['left_iris_x', 'left_iris_y'], axis=1, inplace=True)\n",
    "        eye_positions = dados_teste[['right_iris_x', 'right_iris_y']].values\n",
    "    else:\n",
    "        eye_positions = dados_teste[['left_iris_x', 'left_iris_y', 'right_iris_x', 'right_iris_y']].values\n",
    "\n",
    "    previsoes = model.predict(dados_teste)\n",
    "    combined_predictions = np.concatenate((previsoes, eye_positions), axis=1)\n",
    "\n",
    "    with open(output, mode='w', newline='') as file:\n",
    "        writer = csv.DictWriter(file, fieldnames=fieldnames)\n",
    "\n",
    "        writer.writeheader()\n",
    "\n",
    "        for row in combined_predictions:\n",
    "            if isLeft:\n",
    "                writer.writerow({'screen_x': row[0], 'screen_y': row[1],'left_iris_x': row[2],'left_iris_y': row[3]})\n",
    "            elif isRight:\n",
    "                writer.writerow({'screen_x': row[0], 'screen_y': row[1],'right_iris_x': row[2],'right_iris_y': row[3]})\n",
    "            else:\n",
    "                writer.writerow({'screen_x': row[0], 'screen_y': row[1], 'left_iris_x': row[2],'left_iris_y': row[3],'right_iris_x': row[4],'right_iris_y': row[5]})"
   ]
  },
  {
   "cell_type": "code",
   "execution_count": null,
   "metadata": {},
   "outputs": [],
   "source": [
    "train_to_validate_calib(output, fieldnames, isLeft=False, isRight=False)\n",
    "train_to_validate_calib(output_left, fieldnames_left, isLeft=True, isRight=False)\n",
    "train_to_validate_calib(output_right, fieldnames_rigth, isRight=True, isLeft=False)"
   ]
  },
  {
   "cell_type": "code",
   "execution_count": null,
   "metadata": {},
   "outputs": [],
   "source": [
    "eye = EyeInfo(calib_points=calib_points, dataset=output)\n",
    "eye.init_eye()\n",
    "\n",
    "prediction_df = eye.prediction_df\n",
    "\n",
    "eye.plot(dataset= prediction_df, key_x='screen_x', key_y='screen_y', is_subset=is_subset, subset_size=subset_size, lock_plot=lock_plot)"
   ]
  },
  {
   "cell_type": "code",
   "execution_count": null,
   "metadata": {},
   "outputs": [],
   "source": [
    "eyel = EyeInfo(calib_points=calib_points, dataset=output_left, is_left=True)\n",
    "eyel.init_eye()\n",
    "\n",
    "eye_dfl = pd.read_csv(output_left)\n",
    "prediction_dfl = eyel.prediction_df\n",
    "\n",
    "eyel.plot(dataset= prediction_dfl, key_x='screen_x', key_y='screen_y', is_subset=is_subset, subset_size=subset_size, lock_plot=lock_plot)\n"
   ]
  },
  {
   "cell_type": "code",
   "execution_count": null,
   "metadata": {},
   "outputs": [],
   "source": [
    "eyer = EyeInfo(calib_points=calib_points, dataset=output_right, is_right=True)\n",
    "eyer.init_eye()\n",
    "\n",
    "eye_dfr = pd.read_csv(output_right)\n",
    "prediction_dfr = eyer.prediction_df\n",
    "\n",
    "eyer.plot(dataset= prediction_dfr, key_x='screen_x', key_y='screen_y', is_subset=is_subset, subset_size=subset_size, lock_plot=lock_plot)"
   ]
  }
 ],
 "metadata": {
  "kernelspec": {
   "display_name": "eye_test",
   "language": "python",
   "name": "python3"
  },
  "language_info": {
   "codemirror_mode": {
    "name": "ipython",
    "version": 3
   },
   "file_extension": ".py",
   "mimetype": "text/x-python",
   "name": "python",
   "nbconvert_exporter": "python",
   "pygments_lexer": "ipython3",
   "version": "3.10.11"
  }
 },
 "nbformat": 4,
 "nbformat_minor": 2
}
