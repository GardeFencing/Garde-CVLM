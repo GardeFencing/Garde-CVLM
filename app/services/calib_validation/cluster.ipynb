{
 "cells": [
  {
   "cell_type": "markdown",
   "metadata": {},
   "source": [
    "## Variable Initialization and Imports"
   ]
  },
  {
   "cell_type": "code",
   "execution_count": null,
   "metadata": {},
   "outputs": [],
   "source": [
    "import pandas as pd\n",
    "import matplotlib.pyplot as plt\n",
    "from eyeInfo import EyeInfo\n",
    "import numpy as np\n",
    "\n",
    "calib_points = [\n",
    "    { \"x\": 200, \"y\": 200 },\n",
    "    { \"x\": 1672, \"y\": 200 },\n",
    "    { \"x\": 936, \"y\": 472 },\n",
    "    { \"x\": 200, \"y\": 744 },\n",
    "    { \"x\": 1672, \"y\": 744 },\n",
    "]\n",
    "\n",
    "\n",
    "eye = EyeInfo()\n",
    "\n",
    "right = './csv/output/outright.csv'\n",
    "left = './csv/output/outleft.csv'\n",
    "\n",
    "right_df = pd.read_csv(right)\n",
    "left_df = pd.read_csv(left)\n",
    "\n",
    "calib_points_x, calib_points_y = eye.get_points(calib_points)\n",
    "\n",
    "p_interest = 2\n",
    "\n",
    "# for _ in range(p_interest):\n",
    "#     template = 0 if p_interest == 1 else 20\n",
    "#     lim1 = template * (p_interest - 1)\n",
    "#     lim2 = 20 * p_interest\n",
    "#     p_interest += 1\n",
    "# print(f\"lim1: {lim1}\")\n",
    "# print(f\"lim2: {lim2}\")\n",
    "\n",
    "lim1=20\n",
    "lim2=40\n",
    "\n",
    "right_x = np.array((right_df['screen_x']).tolist()[lim1:lim2])\n",
    "right_y = np.array((right_df['screen_y']).tolist()[lim1:lim2])\n",
    "left_x = np.array((left_df['screen_x']).tolist()[lim1:lim2])\n",
    "left_y = np.array((left_df['screen_y']).tolist()[lim1:lim2])\n",
    "mean_x = np.array(((right_df['screen_x'] + left_df['screen_x']) / 2).tolist()[lim1:lim2])\n",
    "mean_y = np.array(((right_df['screen_y'] + left_df['screen_y']) / 2).tolist()[lim1:lim2])\n",
    "\n",
    "mean_x_flipped = -mean_x\n",
    "right_x_flipped = -right_x\n",
    "left_x_flipped = -left_x\n",
    "\n",
    "mean_y_flipped = -mean_y\n",
    "right_y_flipped = -right_y\n",
    "left_y_flipped = -left_y"
   ]
  },
  {
   "cell_type": "markdown",
   "metadata": {},
   "source": [
    "## Plotting data"
   ]
  },
  {
   "cell_type": "code",
   "execution_count": null,
   "metadata": {},
   "outputs": [],
   "source": [
    "calib_colors= 'black'\n",
    "marker_size = 30\n",
    "star = 100\n",
    "plt.scatter(calib_points_x, calib_points_y, marker=\"*\", color=calib_colors,s=star ,label='calib points')\n",
    "\n",
    "plt.scatter(mean_x_flipped, mean_y_flipped, marker='o', color='green',s=marker_size , label='mean points')\n",
    "plt.scatter(mean_x, mean_y, marker='o', color='green',s=marker_size , label='mean points')\n",
    "\n",
    "plt.scatter(right_x_flipped, right_y_flipped, marker='o', color='blue',s=marker_size , label='mean points')\n",
    "plt.scatter(right_x, right_y, marker='o', color='blue',s=marker_size , label='mean points')\n",
    "\n",
    "plt.scatter(left_x_flipped, left_y_flipped, marker='o', color='red',s=marker_size , label='mean points')\n",
    "plt.scatter(left_x, left_y, marker='o', color='red',s=marker_size , label='mean points')\n",
    "\n",
    "\n",
    "fig = plt.gcf()\n",
    "fig.set_size_inches(eye.k_screen_width / 100, eye.k_screen_height / 100)\n",
    "\n",
    "ax = plt.gca()\n",
    "ax.set_xlim(-200, eye.k_screen_width)\n",
    "ax.set_ylim(-200, eye.k_screen_height)\n",
    "\n",
    "plt.grid(True)\n",
    "\n",
    "plt.show()"
   ]
  }
 ],
 "metadata": {
  "kernelspec": {
   "display_name": "eye_test",
   "language": "python",
   "name": "python3"
  },
  "language_info": {
   "codemirror_mode": {
    "name": "ipython",
    "version": 3
   },
   "file_extension": ".py",
   "mimetype": "text/x-python",
   "name": "python",
   "nbconvert_exporter": "python",
   "pygments_lexer": "ipython3",
   "version": "3.10.11"
  }
 },
 "nbformat": 4,
 "nbformat_minor": 2
}
